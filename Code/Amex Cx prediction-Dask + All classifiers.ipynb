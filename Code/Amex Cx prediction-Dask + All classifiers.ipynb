{
 "cells": [
  {
   "cell_type": "markdown",
   "metadata": {},
   "source": [
    "# Data loading & Pre-Processing"
   ]
  },
  {
   "cell_type": "code",
   "execution_count": null,
   "metadata": {},
   "outputs": [],
   "source": [
    "import pandas as pd\n",
    "import dask.dataframe as dd\n",
    "import os\n",
    "from sklearn.metrics import accuracy_score, f1_score, precision_score, recall_score"
   ]
  },
  {
   "cell_type": "code",
   "execution_count": null,
   "metadata": {},
   "outputs": [],
   "source": [
    "#Setting current directory\n",
    "\n",
    "os.chdir(\"..\")"
   ]
  },
  {
   "cell_type": "code",
   "execution_count": null,
   "metadata": {},
   "outputs": [],
   "source": [
    "#Setting directory for input & output files\n",
    "\n",
    "path=os.getcwd()\n",
    "input_files = path+'/Input_files/'\n",
    "output_files = path+'/Output/'"
   ]
  },
  {
   "cell_type": "markdown",
   "metadata": {},
   "source": [
    "Column legends\n",
    "\n",
    "D_* = Delinquency variables\n",
    "S_* = Spend variables\n",
    "P_* = Payment variables\n",
    "B_* = Balance variables\n",
    "R_* = Risk variables"
   ]
  },
  {
   "cell_type": "code",
   "execution_count": null,
   "metadata": {},
   "outputs": [],
   "source": [
    "amex_tx_data = dd.read_csv(input_files+'train_data.csv') "
   ]
  },
  {
   "cell_type": "code",
   "execution_count": null,
   "metadata": {},
   "outputs": [],
   "source": [
    "%%time\n",
    "\n",
    "amex_tx_data = amex_tx_data.compute()"
   ]
  },
  {
   "cell_type": "code",
   "execution_count": null,
   "metadata": {},
   "outputs": [],
   "source": [
    "op_labels = dd.read_csv(input_files+'train_labels.csv',assume_missing=True)"
   ]
  },
  {
   "cell_type": "code",
   "execution_count": null,
   "metadata": {},
   "outputs": [],
   "source": [
    "%%time\n",
    "op_labels = op_labels.compute()"
   ]
  },
  {
   "cell_type": "code",
   "execution_count": null,
   "metadata": {
    "scrolled": true
   },
   "outputs": [],
   "source": [
    "print(amex_tx_data.shape)\n",
    "amex_tx_data = amex_tx_data.merge(op_labels, how='left', on='customer_ID')\n",
    "print(amex_tx_data.shape)"
   ]
  },
  {
   "cell_type": "code",
   "execution_count": null,
   "metadata": {},
   "outputs": [],
   "source": [
    "data_amx = amex_tx_data.copy()"
   ]
  },
  {
   "cell_type": "code",
   "execution_count": null,
   "metadata": {},
   "outputs": [],
   "source": [
    "%%time\n",
    "data_amx['target'].value_counts() #checking if dataset is balanced or not"
   ]
  },
  {
   "cell_type": "code",
   "execution_count": null,
   "metadata": {},
   "outputs": [],
   "source": [
    "data_amx1 = data_amx.groupby('customer_ID')#grouped on 'customer id'"
   ]
  },
  {
   "cell_type": "code",
   "execution_count": null,
   "metadata": {},
   "outputs": [],
   "source": [
    "%%time\n",
    "\n",
    "data_amx2 = data_amx1.tail(1) #selected latest transaction records"
   ]
  },
  {
   "cell_type": "code",
   "execution_count": null,
   "metadata": {},
   "outputs": [],
   "source": [
    "data_amx2.drop(columns=['S_2'],inplace=True)\n",
    "data_amx2"
   ]
  },
  {
   "cell_type": "code",
   "execution_count": null,
   "metadata": {},
   "outputs": [],
   "source": [
    "data_amx2['target'].value_counts()"
   ]
  },
  {
   "cell_type": "code",
   "execution_count": null,
   "metadata": {},
   "outputs": [],
   "source": [
    "data_amx2.describe()"
   ]
  },
  {
   "cell_type": "markdown",
   "metadata": {},
   "source": [
    "# Encoding features\n",
    "\n",
    "There is ordered categorical data in columns 'D_63' & 'D_64', so we will encode those columns using ordinal encoding\n",
    "\n",
    "Ordered categorical means it will indicate range or intensity.\n",
    "\n",
    "for ex: low, medium, high"
   ]
  },
  {
   "cell_type": "code",
   "execution_count": null,
   "metadata": {},
   "outputs": [],
   "source": [
    "from sklearn.preprocessing import OrdinalEncoder"
   ]
  },
  {
   "cell_type": "code",
   "execution_count": null,
   "metadata": {},
   "outputs": [],
   "source": [
    "oe = OrdinalEncoder()"
   ]
  },
  {
   "cell_type": "code",
   "execution_count": null,
   "metadata": {},
   "outputs": [],
   "source": [
    "data_amx2['D_63'] = oe.fit_transform(data_amx2[['D_63']])\n",
    "data_amx2['D_64'] = oe.fit_transform(data_amx2[['D_64']])"
   ]
  },
  {
   "cell_type": "code",
   "execution_count": null,
   "metadata": {},
   "outputs": [],
   "source": [
    "data_amx2.fillna(0,inplace=True)"
   ]
  },
  {
   "cell_type": "code",
   "execution_count": null,
   "metadata": {},
   "outputs": [],
   "source": [
    "x = data_amx2.iloc[:,1:-1]\n",
    "y = data_amx2.iloc[:,-1]"
   ]
  },
  {
   "cell_type": "code",
   "execution_count": null,
   "metadata": {},
   "outputs": [],
   "source": [
    "from imblearn.over_sampling import SMOTE\n",
    "# Resampling the minority class. The strategy can be changed as required.\n",
    "sm = SMOTE(sampling_strategy='minority', random_state=42)"
   ]
  },
  {
   "cell_type": "code",
   "execution_count": null,
   "metadata": {},
   "outputs": [],
   "source": [
    "x_s, y_s = sm.fit_resample(x,y)"
   ]
  },
  {
   "cell_type": "markdown",
   "metadata": {},
   "source": [
    "# Feature selection"
   ]
  },
  {
   "cell_type": "code",
   "execution_count": null,
   "metadata": {},
   "outputs": [],
   "source": [
    "from sklearn.feature_selection import SelectKBest\n",
    "from sklearn.feature_selection import f_classif"
   ]
  },
  {
   "cell_type": "code",
   "execution_count": null,
   "metadata": {},
   "outputs": [],
   "source": [
    "data_amx2.corr()"
   ]
  },
  {
   "cell_type": "code",
   "execution_count": null,
   "metadata": {},
   "outputs": [],
   "source": [
    "test_df=pd.DataFrame(columns=['Col_Name','f_Value'])\n",
    "test_df['Col_Name'] = x_s.columns\n",
    "test_df['f_Value']= f_classif(x_s,y_s)[0]\n",
    "test_df"
   ]
  },
  {
   "cell_type": "code",
   "execution_count": null,
   "metadata": {},
   "outputs": [],
   "source": [
    "feature_rank = SelectKBest(score_func=f_classif, k=5)\n",
    "ordered_features = feature_rank.fit(x_s,y_s)"
   ]
  },
  {
   "cell_type": "code",
   "execution_count": null,
   "metadata": {},
   "outputs": [],
   "source": [
    "ordered_features.get_feature_names_out()"
   ]
  },
  {
   "cell_type": "code",
   "execution_count": null,
   "metadata": {},
   "outputs": [],
   "source": [
    "x_s = x_s[ordered_features.get_feature_names_out()]"
   ]
  },
  {
   "cell_type": "code",
   "execution_count": null,
   "metadata": {},
   "outputs": [],
   "source": [
    "from sklearn.model_selection import train_test_split"
   ]
  },
  {
   "cell_type": "code",
   "execution_count": null,
   "metadata": {},
   "outputs": [],
   "source": [
    "x_train,x_test,y_train,y_test = train_test_split(x_s,y_s,test_size=0.3,random_state=0)"
   ]
  },
  {
   "cell_type": "code",
   "execution_count": null,
   "metadata": {},
   "outputs": [],
   "source": [
    "#Function to predict result as per called/imported model\n",
    "\n",
    "def predictor_f(model):\n",
    "    model.fit(x_train,y_train)\n",
    "    y_pred = model.predict(x_test)\n",
    "    print('Accuracy Score: ',accuracy_score(y_test,y_pred))\n",
    "    print('F1_Score: ',f1_score(y_test,y_pred))\n",
    "    print('Precision Score: ',precision_score(y_test,y_pred))\n",
    "    print('Recall Score: ',recall_score(y_test,y_pred))"
   ]
  },
  {
   "cell_type": "markdown",
   "metadata": {},
   "source": [
    "# Linear models\n"
   ]
  },
  {
   "cell_type": "markdown",
   "metadata": {},
   "source": [
    "### Logistic Regression"
   ]
  },
  {
   "cell_type": "code",
   "execution_count": null,
   "metadata": {},
   "outputs": [],
   "source": [
    "from sklearn.linear_model import  LogisticRegression"
   ]
  },
  {
   "cell_type": "code",
   "execution_count": null,
   "metadata": {},
   "outputs": [],
   "source": [
    "lr = LogisticRegression()"
   ]
  },
  {
   "cell_type": "code",
   "execution_count": null,
   "metadata": {},
   "outputs": [],
   "source": [
    "#Result with 8 best columns\n",
    "\n",
    "predictor_f(lr)"
   ]
  },
  {
   "cell_type": "raw",
   "metadata": {},
   "source": [
    "#Result after selecting 30 best columns\n",
    "\n",
    "Accuracy Score:  0.8735512200381277\n",
    "F1_Score:  0.8760448894098657\n",
    "Precision Score:  0.8594306720708832\n",
    "Recall Score:  0.8933141300726981"
   ]
  },
  {
   "cell_type": "raw",
   "metadata": {},
   "source": [
    "#Result after selecting only 5 best columns\n",
    "\n",
    "Accuracy Score:  0.8611768626470834\n",
    "F1_Score:  0.864577506872236\n",
    "Precision Score:  0.8442241081515092\n",
    "Recall Score:  0.8859365508592479"
   ]
  },
  {
   "cell_type": "raw",
   "metadata": {},
   "source": [
    "# Result before resmapling\n",
    "\n",
    "Accuracy Score:  0.8657335444601014\n",
    "F1_Score:  0.7370966136166461\n",
    "Precision Score:  0.7480874159184734\n",
    "Recall Score:  0.7264240861179637"
   ]
  },
  {
   "cell_type": "markdown",
   "metadata": {},
   "source": [
    "### Passive Agressive Classifier"
   ]
  },
  {
   "cell_type": "code",
   "execution_count": null,
   "metadata": {},
   "outputs": [],
   "source": [
    "from sklearn.linear_model import PassiveAggressiveClassifier"
   ]
  },
  {
   "cell_type": "code",
   "execution_count": null,
   "metadata": {},
   "outputs": [],
   "source": [
    "pa = PassiveAggressiveClassifier()"
   ]
  },
  {
   "cell_type": "code",
   "execution_count": null,
   "metadata": {},
   "outputs": [],
   "source": [
    "#Result with 8 best columns\n",
    "\n",
    "predictor_f(pa)"
   ]
  },
  {
   "cell_type": "raw",
   "metadata": {},
   "source": [
    "#Result after selecting 30 best columns\n",
    "\n",
    "Accuracy Score:  0.8619854840211516\n",
    "F1_Score:  0.8606034807056449\n",
    "Precision Score:  0.869660470978972\n",
    "Recall Score:  0.8517331922481531"
   ]
  },
  {
   "cell_type": "raw",
   "metadata": {},
   "source": [
    "#Result after selecting only 5 best columns\n",
    "\n",
    "Accuracy Score:  0.8188002019103068\n",
    "F1_Score:  0.8434379790144054\n",
    "Precision Score:  0.7427067175754684\n",
    "Recall Score:  0.975780377402857"
   ]
  },
  {
   "cell_type": "raw",
   "metadata": {},
   "source": [
    "#Result before resmapling\n",
    "\n",
    "Accuracy Score:  0.8578235541932391\n",
    "F1_Score:  0.7340633661214064\n",
    "Precision Score:  0.7121955077507118\n",
    "Recall Score:  0.7573166629289079"
   ]
  },
  {
   "cell_type": "markdown",
   "metadata": {},
   "source": [
    "### Ridge Classifier"
   ]
  },
  {
   "cell_type": "code",
   "execution_count": null,
   "metadata": {},
   "outputs": [],
   "source": [
    "from sklearn.linear_model import RidgeClassifier"
   ]
  },
  {
   "cell_type": "code",
   "execution_count": null,
   "metadata": {},
   "outputs": [],
   "source": [
    "rg = RidgeClassifier()"
   ]
  },
  {
   "cell_type": "code",
   "execution_count": null,
   "metadata": {},
   "outputs": [],
   "source": [
    "#Result with 8 best columns\n",
    "predictor_f(rg)"
   ]
  },
  {
   "cell_type": "raw",
   "metadata": {},
   "source": [
    "# Result after selecting 30 best columns\n",
    "\n",
    "Accuracy Score:  0.8741932164017819\n",
    "F1_Score:  0.8768735641004733\n",
    "Precision Score:  0.858907983876272\n",
    "Recall Score:  0.8956067642505829"
   ]
  },
  {
   "cell_type": "raw",
   "metadata": {},
   "source": [
    "#Result with 5 best columns\n",
    "\n",
    "Accuracy Score:  0.8586725867552719\n",
    "F1_Score:  0.8630127876265937\n",
    "Precision Score:  0.8376118026740433\n",
    "Recall Score:  0.8900025473713088"
   ]
  },
  {
   "cell_type": "raw",
   "metadata": {},
   "source": [
    "# Result before resmapling\n",
    "\n",
    "Accuracy Score:  0.8669320278338685\n",
    "F1_Score:  0.7411112995308349\n",
    "Precision Score:  0.7472358372278582\n",
    "Recall Score:  0.7350863422291993"
   ]
  },
  {
   "cell_type": "markdown",
   "metadata": {},
   "source": [
    "### Stochastic Gradient Descent Classifier"
   ]
  },
  {
   "cell_type": "code",
   "execution_count": null,
   "metadata": {},
   "outputs": [],
   "source": [
    "from sklearn.linear_model import SGDClassifier"
   ]
  },
  {
   "cell_type": "code",
   "execution_count": null,
   "metadata": {},
   "outputs": [],
   "source": [
    "sgd = SGDClassifier()"
   ]
  },
  {
   "cell_type": "code",
   "execution_count": null,
   "metadata": {},
   "outputs": [],
   "source": [
    "#Result with 8 best columns\n",
    "\n",
    "predictor_f(sgd)"
   ]
  },
  {
   "cell_type": "raw",
   "metadata": {},
   "source": [
    "#Result after selecting 30 best columns\n",
    "\n",
    "Accuracy Score:  0.873649234750136\n",
    "F1_Score:  0.8758762132183022\n",
    "Precision Score:  0.8610359123866498\n",
    "Recall Score:  0.8912370426978622"
   ]
  },
  {
   "cell_type": "raw",
   "metadata": {},
   "source": [
    "#Result with 5 best columns\n",
    "\n",
    "Accuracy Score:  0.8617943553327354\n",
    "F1_Score:  0.8671299677259771\n",
    "Precision Score:  0.8352045308089563\n",
    "Recall Score:  0.9015930868261713"
   ]
  },
  {
   "cell_type": "raw",
   "metadata": {},
   "source": [
    "#Parameters before sampling\n",
    "\n",
    "Accuracy Score:  0.8671136162238331\n",
    "F1_Score:  0.7395618318219996\n",
    "Precision Score:  0.751294287780188\n",
    "Recall Score:  0.728190177169769"
   ]
  },
  {
   "cell_type": "markdown",
   "metadata": {},
   "source": [
    "# Tree Classifiers"
   ]
  },
  {
   "cell_type": "markdown",
   "metadata": {},
   "source": [
    "### Decision Tree"
   ]
  },
  {
   "cell_type": "code",
   "execution_count": null,
   "metadata": {},
   "outputs": [],
   "source": [
    "from sklearn.tree import DecisionTreeClassifier"
   ]
  },
  {
   "cell_type": "code",
   "execution_count": null,
   "metadata": {},
   "outputs": [],
   "source": [
    "dtc = DecisionTreeClassifier()"
   ]
  },
  {
   "cell_type": "code",
   "execution_count": null,
   "metadata": {},
   "outputs": [],
   "source": [
    "#Result with 8 best columns\n",
    "\n",
    "predictor_f(dtc)"
   ]
  },
  {
   "cell_type": "raw",
   "metadata": {},
   "source": [
    "#Result after selecting 30 best columns\n",
    "\n",
    "Accuracy Score:  0.8716497346251673\n",
    "F1_Score:  0.8720629182746324\n",
    "Precision Score:  0.8696075756985309\n",
    "Recall Score:  0.8745321654615641"
   ]
  },
  {
   "cell_type": "raw",
   "metadata": {},
   "source": [
    "#Result with 5 best columns\n",
    "\n",
    "Accuracy Score:  0.8364232471293941\n",
    "F1_Score:  0.8366705813270697\n",
    "Precision Score:  0.835738166461376\n",
    "Recall Score:  0.8376050790664864"
   ]
  },
  {
   "cell_type": "raw",
   "metadata": {},
   "source": [
    "#Parameters before sampling\n",
    "\n",
    "Accuracy Score:  0.8235396661679039\n",
    "F1_Score:  0.6595190043726875\n",
    "Precision Score:  0.659445067264574\n",
    "Recall Score:  0.6595929580623459"
   ]
  },
  {
   "cell_type": "markdown",
   "metadata": {},
   "source": [
    "### Extra Tree Classifier"
   ]
  },
  {
   "cell_type": "code",
   "execution_count": null,
   "metadata": {},
   "outputs": [],
   "source": [
    "from sklearn.tree import ExtraTreeClassifier"
   ]
  },
  {
   "cell_type": "code",
   "execution_count": null,
   "metadata": {},
   "outputs": [],
   "source": [
    "et = ExtraTreeClassifier()"
   ]
  },
  {
   "cell_type": "code",
   "execution_count": null,
   "metadata": {},
   "outputs": [],
   "source": [
    "#Result with 8 best columns\n",
    "\n",
    "predictor_f(et)"
   ]
  },
  {
   "cell_type": "raw",
   "metadata": {},
   "source": [
    "#Result after selecting 30 best columns\n",
    "\n",
    "Accuracy Score:  0.8497042406065151\n",
    "F1_Score:  0.8507422008079037\n",
    "Precision Score:  0.8452380952380952\n",
    "Recall Score:  0.8563184606039229"
   ]
  },
  {
   "cell_type": "raw",
   "metadata": {},
   "source": [
    "#Result with 5 best columns\n",
    "\n",
    "Accuracy Score:  0.8245193603559894\n",
    "F1_Score:  0.8245485949481834\n",
    "Precision Score:  0.8247385290975211\n",
    "Recall Score:  0.8243587482609293"
   ]
  },
  {
   "cell_type": "raw",
   "metadata": {},
   "source": [
    "#Parameters before sampling\n",
    "\n",
    "Accuracy Score:  0.8244693987245232\n",
    "F1_Score:  0.6614362968982039\n",
    "Precision Score:  0.6611213801601972\n",
    "Recall Score:  0.6617515137923301"
   ]
  },
  {
   "cell_type": "markdown",
   "metadata": {},
   "source": [
    "# Ensemble Classifiers"
   ]
  },
  {
   "cell_type": "markdown",
   "metadata": {},
   "source": [
    "### Random Forest Classifier"
   ]
  },
  {
   "cell_type": "code",
   "execution_count": null,
   "metadata": {},
   "outputs": [],
   "source": [
    "from sklearn.ensemble import RandomForestClassifier"
   ]
  },
  {
   "cell_type": "code",
   "execution_count": null,
   "metadata": {},
   "outputs": [],
   "source": [
    "rfc = RandomForestClassifier()"
   ]
  },
  {
   "cell_type": "code",
   "execution_count": null,
   "metadata": {},
   "outputs": [],
   "source": [
    "#Result with 8 best columns\n",
    "\n",
    "predictor_f(rfc)"
   ]
  },
  {
   "cell_type": "raw",
   "metadata": {},
   "source": [
    "#Result after selecting 30 best columns\n",
    "\n",
    "Accuracy Score:  0.9149379321836207\n",
    "F1_Score:  0.9171839587756758\n",
    "Precision Score:  0.8939257247556246\n",
    "Recall Score:  0.9416847921932867"
   ]
  },
  {
   "cell_type": "raw",
   "metadata": {},
   "source": [
    "#Result with 5 best columns\n",
    "\n",
    "Accuracy Score:  0.8863715443688097\n",
    "F1_Score:  0.8896220127582596\n",
    "Precision Score:  0.8652054743782062\n",
    "Recall Score:  0.9154566652950052"
   ]
  },
  {
   "cell_type": "raw",
   "metadata": {},
   "source": [
    "#Parameters before sampling\n",
    "\n",
    "Accuracy Score:  0.8688350741606985\n",
    "F1_Score:  0.7447560355063041\n",
    "Precision Score:  0.7510833618428555\n",
    "Recall Score:  0.7385344247589145"
   ]
  },
  {
   "cell_type": "markdown",
   "metadata": {},
   "source": [
    "### Gradient boosting "
   ]
  },
  {
   "cell_type": "code",
   "execution_count": null,
   "metadata": {},
   "outputs": [],
   "source": [
    "from sklearn.ensemble import GradientBoostingClassifier"
   ]
  },
  {
   "cell_type": "code",
   "execution_count": null,
   "metadata": {},
   "outputs": [],
   "source": [
    "gbc = GradientBoostingClassifier()"
   ]
  },
  {
   "cell_type": "code",
   "execution_count": null,
   "metadata": {},
   "outputs": [],
   "source": [
    "#Result with 8 best columns\n",
    "\n",
    "predictor_f(gbc)"
   ]
  },
  {
   "cell_type": "raw",
   "metadata": {},
   "source": [
    "#Result after selecting 30 best columns\n",
    "\n",
    "Accuracy Score:  0.8988831223566658\n",
    "F1_Score:  0.9014430310817718\n",
    "Precision Score:  0.879517173882649\n",
    "Recall Score:  0.92449003585915"
   ]
  },
  {
   "cell_type": "raw",
   "metadata": {},
   "source": [
    "#Result with 5 best columns\n",
    "\n",
    "Accuracy Score:  0.8783833453401355\n",
    "F1_Score:  0.8829599584964393\n",
    "Precision Score:  0.8512513186133643\n",
    "Recall Score:  0.9171222542276566"
   ]
  },
  {
   "cell_type": "raw",
   "metadata": {},
   "source": [
    "#Parameters before sampling\n",
    "\n",
    "Accuracy Score:  0.8739050220085128\n",
    "F1_Score:  0.7589223718927927\n",
    "Precision Score:  0.7519676371842149\n",
    "Recall Score:  0.766006952231442"
   ]
  },
  {
   "cell_type": "markdown",
   "metadata": {},
   "source": [
    "### Adaboost Classifier"
   ]
  },
  {
   "cell_type": "code",
   "execution_count": null,
   "metadata": {},
   "outputs": [],
   "source": [
    "from sklearn.ensemble import AdaBoostClassifier"
   ]
  },
  {
   "cell_type": "code",
   "execution_count": null,
   "metadata": {},
   "outputs": [],
   "source": [
    "ad = AdaBoostClassifier()"
   ]
  },
  {
   "cell_type": "code",
   "execution_count": null,
   "metadata": {},
   "outputs": [],
   "source": [
    "#Result with 8 best columns\n",
    "\n",
    "predictor_f(ad)"
   ]
  },
  {
   "cell_type": "raw",
   "metadata": {},
   "source": [
    "#Result after selecting 30 best columns\n",
    "\n",
    "Accuracy Score:  0.8906841916971737\n",
    "F1_Score:  0.893259448543838\n",
    "Precision Score:  0.873031017323306\n",
    "Recall Score:  0.9144475143534576"
   ]
  },
  {
   "cell_type": "raw",
   "metadata": {},
   "source": [
    "#Result with 5 best columns\n",
    "\n",
    "Accuracy Score:  0.8709489294343081\n",
    "F1_Score:  0.8748984526801366\n",
    "Precision Score:  0.8492349691497505\n",
    "Recall Score:  0.9021613465796642"
   ]
  },
  {
   "cell_type": "raw",
   "metadata": {},
   "source": [
    "#Parameters before sampling\n",
    "\n",
    "Accuracy Score:  0.8699391315716838\n",
    "F1_Score:  0.745653409090909\n",
    "Precision Score:  0.7557878369039391\n",
    "Recall Score:  0.7357871720116618"
   ]
  },
  {
   "cell_type": "markdown",
   "metadata": {},
   "source": [
    "### Bagging Classifier"
   ]
  },
  {
   "cell_type": "code",
   "execution_count": null,
   "metadata": {},
   "outputs": [],
   "source": [
    "from sklearn.ensemble import BaggingClassifier"
   ]
  },
  {
   "cell_type": "code",
   "execution_count": null,
   "metadata": {},
   "outputs": [],
   "source": [
    "#Result with 8 best columns\n",
    "\n",
    "bg = BaggingClassifier()"
   ]
  },
  {
   "cell_type": "code",
   "execution_count": null,
   "metadata": {},
   "outputs": [],
   "source": [
    "#Result with 8 best columns\n",
    "\n",
    "predictor_f(bg)"
   ]
  },
  {
   "cell_type": "raw",
   "metadata": {},
   "source": [
    "#Result after selecting 30 best columns\n",
    "\n",
    "Accuracy Score:  0.901647137235299\n",
    "F1_Score:  0.9014007005959487\n",
    "Precision Score:  0.9040256220744025\n",
    "Recall Score:  0.8987909783865342"
   ]
  },
  {
   "cell_type": "raw",
   "metadata": {},
   "source": [
    "#Result with 5 best columns\n",
    "\n",
    "Accuracy Score:  0.8743941465613989\n",
    "F1_Score:  0.8749219177012572\n",
    "Precision Score:  0.871604146004706\n",
    "Recall Score:  0.8782650441870946"
   ]
  },
  {
   "cell_type": "raw",
   "metadata": {},
   "source": [
    "#Parameters before sampling\n",
    "\n",
    "Accuracy Score:  0.8583320016851402\n",
    "F1_Score:  0.7124830473494899\n",
    "Precision Score:  0.7513368983957219\n",
    "Recall Score:  0.6774501009194887"
   ]
  },
  {
   "cell_type": "markdown",
   "metadata": {},
   "source": [
    "### Histogram based Gradient boosting"
   ]
  },
  {
   "cell_type": "code",
   "execution_count": null,
   "metadata": {},
   "outputs": [],
   "source": [
    "from sklearn.ensemble import HistGradientBoostingClassifier"
   ]
  },
  {
   "cell_type": "code",
   "execution_count": null,
   "metadata": {},
   "outputs": [],
   "source": [
    "hgb = HistGradientBoostingClassifier()"
   ]
  },
  {
   "cell_type": "code",
   "execution_count": null,
   "metadata": {},
   "outputs": [],
   "source": [
    "#Result with 8 best columns\n",
    "\n",
    "predictor_f(hgb)"
   ]
  },
  {
   "cell_type": "raw",
   "metadata": {},
   "source": [
    "#Result after selecting 30 best columns\n",
    "\n",
    "Accuracy Score:  0.9135461232731032\n",
    "F1_Score:  0.9145263117093283\n",
    "Precision Score:  0.9046249700455308\n",
    "Recall Score:  0.9246467971704583"
   ]
  },
  {
   "cell_type": "raw",
   "metadata": {},
   "source": [
    "#Result with 5 best columns\n",
    "\n",
    "Accuracy Score:  0.8840829008434166\n",
    "F1_Score:  0.8875973597046064\n",
    "Precision Score:  0.8618003968070872\n",
    "Recall Score:  0.9149863813610801"
   ]
  },
  {
   "cell_type": "raw",
   "metadata": {},
   "source": [
    "#Parameters before sampling\n",
    "\n",
    "Accuracy Score:  0.8738759678661185\n",
    "F1_Score:  0.7564109758150497\n",
    "Precision Score:  0.7570481860047175\n",
    "Recall Score:  0.7557748374074905"
   ]
  },
  {
   "cell_type": "markdown",
   "metadata": {},
   "source": [
    "### Extra Trees classifier"
   ]
  },
  {
   "cell_type": "code",
   "execution_count": null,
   "metadata": {},
   "outputs": [],
   "source": [
    "from sklearn.ensemble import ExtraTreesClassifier"
   ]
  },
  {
   "cell_type": "code",
   "execution_count": null,
   "metadata": {},
   "outputs": [],
   "source": [
    "ets = ExtraTreesClassifier()"
   ]
  },
  {
   "cell_type": "code",
   "execution_count": null,
   "metadata": {},
   "outputs": [],
   "source": [
    "#Result with 8 best columns\n",
    "\n",
    "predictor_f(ets)"
   ]
  },
  {
   "cell_type": "raw",
   "metadata": {},
   "source": [
    "#Result with 30 best columns\n",
    "\n",
    "Accuracy Score:  0.9158004616492935\n",
    "F1_Score:  0.9188522848034006\n",
    "Precision Score:  0.8870407353705578\n",
    "Recall Score:  0.9530303920992299"
   ]
  },
  {
   "cell_type": "raw",
   "metadata": {},
   "source": [
    "#Result with 5 best columns\n",
    "\n",
    "Accuracy Score:  0.8864989634944205\n",
    "F1_Score:  0.8901025898966508\n",
    "Precision Score:  0.8630332364091428\n",
    "Recall Score:  0.9189250093077028"
   ]
  },
  {
   "cell_type": "raw",
   "metadata": {},
   "source": [
    "#Parameters before sampling\n",
    "\n",
    "Accuracy Score:  0.8684936879875649\n",
    "F1_Score:  0.7435951905510472\n",
    "Precision Score:  0.7513952889321389\n",
    "Recall Score:  0.7359553711594528"
   ]
  },
  {
   "cell_type": "markdown",
   "metadata": {},
   "source": [
    "# Naive Bayes"
   ]
  },
  {
   "cell_type": "code",
   "execution_count": null,
   "metadata": {},
   "outputs": [],
   "source": [
    "from sklearn.naive_bayes import GaussianNB"
   ]
  },
  {
   "cell_type": "code",
   "execution_count": null,
   "metadata": {},
   "outputs": [],
   "source": [
    "nb = GaussianNB()"
   ]
  },
  {
   "cell_type": "code",
   "execution_count": null,
   "metadata": {},
   "outputs": [],
   "source": [
    "#Result with 8 best columns\n",
    "\n",
    "predictor_f(nb)"
   ]
  },
  {
   "cell_type": "raw",
   "metadata": {},
   "source": [
    "#Result with 5 best columns\n",
    "\n",
    "Accuracy Score:  0.8472195676571054\n",
    "F1_Score:  0.8517502270706226\n",
    "Precision Score:  0.8275288529952597\n",
    "Recall Score:  0.8774322497207689"
   ]
  },
  {
   "cell_type": "raw",
   "metadata": {},
   "source": [
    "#Parameters before sampling\n",
    "\n",
    "Accuracy Score:  0.8468120342257798\n",
    "F1_Score:  0.7389657647845136\n",
    "Precision Score:  0.6615841496387571\n",
    "Recall Score:  0.836846826642745"
   ]
  },
  {
   "cell_type": "code",
   "execution_count": null,
   "metadata": {},
   "outputs": [],
   "source": []
  }
 ],
 "metadata": {
  "kernelspec": {
   "display_name": "Python 3 (ipykernel)",
   "language": "python",
   "name": "python3"
  },
  "language_info": {
   "codemirror_mode": {
    "name": "ipython",
    "version": 3
   },
   "file_extension": ".py",
   "mimetype": "text/x-python",
   "name": "python",
   "nbconvert_exporter": "python",
   "pygments_lexer": "ipython3",
   "version": "3.9.7"
  },
  "vscode": {
   "interpreter": {
    "hash": "fbe154774265dc55499ade91360199cea39a642a5480ef5808b736b9669660e5"
   }
  }
 },
 "nbformat": 4,
 "nbformat_minor": 2
}
